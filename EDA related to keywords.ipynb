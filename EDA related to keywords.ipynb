{
 "cells": [
  {
   "cell_type": "code",
   "execution_count": 35,
   "metadata": {},
   "outputs": [],
   "source": [
    "import pandas as pd\n",
    "import numpy as np\n",
    "import matplotlib.pyplot as plt\n",
    "import seaborn as sns"
   ]
  },
  {
   "cell_type": "code",
   "execution_count": 3,
   "metadata": {},
   "outputs": [],
   "source": [
    "df = pd.read_csv('tmp_key2.csv')"
   ]
  },
  {
   "cell_type": "code",
   "execution_count": 4,
   "metadata": {},
   "outputs": [
    {
     "data": {
      "text/html": [
       "<div>\n",
       "<style scoped>\n",
       "    .dataframe tbody tr th:only-of-type {\n",
       "        vertical-align: middle;\n",
       "    }\n",
       "\n",
       "    .dataframe tbody tr th {\n",
       "        vertical-align: top;\n",
       "    }\n",
       "\n",
       "    .dataframe thead th {\n",
       "        text-align: right;\n",
       "    }\n",
       "</style>\n",
       "<table border=\"1\" class=\"dataframe\">\n",
       "  <thead>\n",
       "    <tr style=\"text-align: right;\">\n",
       "      <th></th>\n",
       "      <th>book_name</th>\n",
       "      <th>book_ratings</th>\n",
       "      <th>book_number_of_reviews</th>\n",
       "      <th>book_price</th>\n",
       "      <th>book_discount</th>\n",
       "      <th>book_author</th>\n",
       "      <th>day</th>\n",
       "      <th>month</th>\n",
       "      <th>year</th>\n",
       "      <th>years_launched</th>\n",
       "      <th>keyword</th>\n",
       "      <th>keyword2</th>\n",
       "    </tr>\n",
       "  </thead>\n",
       "  <tbody>\n",
       "    <tr>\n",
       "      <td>0</td>\n",
       "      <td>Python 3 Object-Oriented Programming: Build ro...</td>\n",
       "      <td>4.4</td>\n",
       "      <td>201</td>\n",
       "      <td>4770</td>\n",
       "      <td>0</td>\n",
       "      <td>by Dusty Phillips</td>\n",
       "      <td>30</td>\n",
       "      <td>October</td>\n",
       "      <td>2018</td>\n",
       "      <td>4</td>\n",
       "      <td>['python object oriented']</td>\n",
       "      <td>['python']</td>\n",
       "    </tr>\n",
       "    <tr>\n",
       "      <td>1</td>\n",
       "      <td>Learning RStudio for R Statistical Computing</td>\n",
       "      <td>3.7</td>\n",
       "      <td>13</td>\n",
       "      <td>1828</td>\n",
       "      <td>0</td>\n",
       "      <td>by Mark van der Loo and Edwin de Jonge</td>\n",
       "      <td>24</td>\n",
       "      <td>December</td>\n",
       "      <td>2012</td>\n",
       "      <td>10</td>\n",
       "      <td>['learning rstudio statistical']</td>\n",
       "      <td>['rstudio']</td>\n",
       "    </tr>\n",
       "    <tr>\n",
       "      <td>2</td>\n",
       "      <td>Socket.io Real-time Web Application Development</td>\n",
       "      <td>3.2</td>\n",
       "      <td>4</td>\n",
       "      <td>2243</td>\n",
       "      <td>0</td>\n",
       "      <td>by Rohit Rai</td>\n",
       "      <td>22</td>\n",
       "      <td>February</td>\n",
       "      <td>2013</td>\n",
       "      <td>9</td>\n",
       "      <td>['real time web']</td>\n",
       "      <td>['socket']</td>\n",
       "    </tr>\n",
       "    <tr>\n",
       "      <td>3</td>\n",
       "      <td>eZ Publish 4: Enterprise Web Sites Step-by-Step</td>\n",
       "      <td>1.0</td>\n",
       "      <td>1</td>\n",
       "      <td>220</td>\n",
       "      <td>0</td>\n",
       "      <td>by Francesco Trucchia and Francesco Fullone</td>\n",
       "      <td>20</td>\n",
       "      <td>October</td>\n",
       "      <td>2009</td>\n",
       "      <td>13</td>\n",
       "      <td>['publish enterprise web']</td>\n",
       "      <td>['publish']</td>\n",
       "    </tr>\n",
       "    <tr>\n",
       "      <td>4</td>\n",
       "      <td>Robot Framework Test Automation</td>\n",
       "      <td>2.9</td>\n",
       "      <td>17</td>\n",
       "      <td>1828</td>\n",
       "      <td>0</td>\n",
       "      <td>by Sumit Bisht</td>\n",
       "      <td>25</td>\n",
       "      <td>October</td>\n",
       "      <td>2013</td>\n",
       "      <td>9</td>\n",
       "      <td>['robot framework test']</td>\n",
       "      <td>['automation']</td>\n",
       "    </tr>\n",
       "  </tbody>\n",
       "</table>\n",
       "</div>"
      ],
      "text/plain": [
       "                                           book_name  book_ratings  \\\n",
       "0  Python 3 Object-Oriented Programming: Build ro...           4.4   \n",
       "1       Learning RStudio for R Statistical Computing           3.7   \n",
       "2    Socket.io Real-time Web Application Development           3.2   \n",
       "3    eZ Publish 4: Enterprise Web Sites Step-by-Step           1.0   \n",
       "4                    Robot Framework Test Automation           2.9   \n",
       "\n",
       "   book_number_of_reviews  book_price  book_discount  \\\n",
       "0                     201        4770              0   \n",
       "1                      13        1828              0   \n",
       "2                       4        2243              0   \n",
       "3                       1         220              0   \n",
       "4                      17        1828              0   \n",
       "\n",
       "                                    book_author  day     month  year  \\\n",
       "0                            by Dusty Phillips    30   October  2018   \n",
       "1       by Mark van der Loo and Edwin de Jonge    24  December  2012   \n",
       "2                                 by Rohit Rai    22  February  2013   \n",
       "3  by Francesco Trucchia and Francesco Fullone    20   October  2009   \n",
       "4                               by Sumit Bisht    25   October  2013   \n",
       "\n",
       "   years_launched                           keyword        keyword2  \n",
       "0               4        ['python object oriented']      ['python']  \n",
       "1              10  ['learning rstudio statistical']     ['rstudio']  \n",
       "2               9                 ['real time web']      ['socket']  \n",
       "3              13        ['publish enterprise web']     ['publish']  \n",
       "4               9          ['robot framework test']  ['automation']  "
      ]
     },
     "execution_count": 4,
     "metadata": {},
     "output_type": "execute_result"
    }
   ],
   "source": [
    "df.head()"
   ]
  },
  {
   "cell_type": "code",
   "execution_count": 5,
   "metadata": {},
   "outputs": [
    {
     "data": {
      "text/plain": [
       "(1074, 12)"
      ]
     },
     "execution_count": 5,
     "metadata": {},
     "output_type": "execute_result"
    }
   ],
   "source": [
    "df.shape"
   ]
  },
  {
   "cell_type": "code",
   "execution_count": 8,
   "metadata": {},
   "outputs": [
    {
     "data": {
      "text/plain": [
       "413"
      ]
     },
     "execution_count": 8,
     "metadata": {},
     "output_type": "execute_result"
    }
   ],
   "source": [
    "df['keyword2'].nunique()"
   ]
  },
  {
   "cell_type": "code",
   "execution_count": 9,
   "metadata": {},
   "outputs": [],
   "source": [
    "unique_keywords = df['keyword2'].unique()"
   ]
  },
  {
   "cell_type": "code",
   "execution_count": 11,
   "metadata": {},
   "outputs": [
    {
     "data": {
      "text/plain": [
       "['python']           44\n",
       "['react']            20\n",
       "['tensorflow']       20\n",
       "['java']             19\n",
       "['azure']            18\n",
       "['analytics']        17\n",
       "['aws']              16\n",
       "['devops']           15\n",
       "['kubernetes']       15\n",
       "['ai']               14\n",
       "['angular']          13\n",
       "['learning']         13\n",
       "['programming']      12\n",
       "['unity']            12\n",
       "['cookbook']         12\n",
       "['forensics']        11\n",
       "['microservices']    10\n",
       "['powershell']       10\n",
       "['data']             10\n",
       "['algorithms']       10\n",
       "Name: keyword2, dtype: int64"
      ]
     },
     "execution_count": 11,
     "metadata": {},
     "output_type": "execute_result"
    }
   ],
   "source": [
    "df['keyword2'].value_counts()[:20]"
   ]
  },
  {
   "cell_type": "code",
   "execution_count": 72,
   "metadata": {},
   "outputs": [
    {
     "data": {
      "image/png": "[encoded data removed]",
      "text/plain": [
       "<Figure size 864x576 with 1 Axes>"
      ]
     },
     "metadata": {
      "needs_background": "light"
     },
     "output_type": "display_data"
    }
   ],
   "source": [
    "plt.figure(figsize=(12,8))\n",
    "df.keyword2.value_counts()[:30].sort_values(ascending=True).plot(kind='bar')\n",
    "plt.title(\"Top 30 most frequently occuring keywords\",fontsize=20)\n",
    "plt.xlabel(\"Keyword\", fontsize = 17)\n",
    "plt.ylabel(\"Number of books\", fontsize=17)\n",
    "plt.yticks(fontsize=12)\n",
    "plt.xticks(fontsize=12)\n",
    "plt.show()"
   ]
  },
  {
   "cell_type": "markdown",
   "metadata": {},
   "source": [
    "- Python is the most frequently occuring keyword with more than 40 instances.\n",
    "- Python, React.js, Tensorflow, Java and Azure are trending topics amongst publications."
   ]
  },
  {
   "cell_type": "code",
   "execution_count": 21,
   "metadata": {},
   "outputs": [],
   "source": [
    "dat=df[['keyword2','book_ratings']]\n",
    "words=dat['keyword2'].unique()\n",
    "bar = pd.DataFrame(columns=[\"keyword\",\"Avg_rating\"])\n",
    "for i in words[:-1]:\n",
    "    temp=df[df['keyword2']==i]\n",
    "#    print(len(temp))\n",
    "    rating=0\n",
    "    for index, row in temp.iterrows():\n",
    "        rating=rating+row['book_ratings']\n",
    "    bar.loc[len(bar.index)] = [i,rating/len(temp)]"
   ]
  },
  {
   "cell_type": "code",
   "execution_count": 22,
   "metadata": {},
   "outputs": [
    {
     "data": {
      "text/html": [
       "<div>\n",
       "<style scoped>\n",
       "    .dataframe tbody tr th:only-of-type {\n",
       "        vertical-align: middle;\n",
       "    }\n",
       "\n",
       "    .dataframe tbody tr th {\n",
       "        vertical-align: top;\n",
       "    }\n",
       "\n",
       "    .dataframe thead th {\n",
       "        text-align: right;\n",
       "    }\n",
       "</style>\n",
       "<table border=\"1\" class=\"dataframe\">\n",
       "  <thead>\n",
       "    <tr style=\"text-align: right;\">\n",
       "      <th></th>\n",
       "      <th>keyword</th>\n",
       "      <th>Avg_rating</th>\n",
       "    </tr>\n",
       "  </thead>\n",
       "  <tbody>\n",
       "    <tr>\n",
       "      <td>0</td>\n",
       "      <td>['python']</td>\n",
       "      <td>4.188636</td>\n",
       "    </tr>\n",
       "    <tr>\n",
       "      <td>1</td>\n",
       "      <td>['rstudio']</td>\n",
       "      <td>3.700000</td>\n",
       "    </tr>\n",
       "    <tr>\n",
       "      <td>2</td>\n",
       "      <td>['socket']</td>\n",
       "      <td>3.766667</td>\n",
       "    </tr>\n",
       "    <tr>\n",
       "      <td>3</td>\n",
       "      <td>['publish']</td>\n",
       "      <td>1.000000</td>\n",
       "    </tr>\n",
       "    <tr>\n",
       "      <td>4</td>\n",
       "      <td>['automation']</td>\n",
       "      <td>3.940000</td>\n",
       "    </tr>\n",
       "    <tr>\n",
       "      <td>...</td>\n",
       "      <td>...</td>\n",
       "      <td>...</td>\n",
       "    </tr>\n",
       "    <tr>\n",
       "      <td>408</td>\n",
       "      <td>['fcp']</td>\n",
       "      <td>5.000000</td>\n",
       "    </tr>\n",
       "    <tr>\n",
       "      <td>409</td>\n",
       "      <td>['code']</td>\n",
       "      <td>4.000000</td>\n",
       "    </tr>\n",
       "    <tr>\n",
       "      <td>410</td>\n",
       "      <td>['preprocessing']</td>\n",
       "      <td>4.000000</td>\n",
       "    </tr>\n",
       "    <tr>\n",
       "      <td>411</td>\n",
       "      <td>['svg']</td>\n",
       "      <td>5.000000</td>\n",
       "    </tr>\n",
       "    <tr>\n",
       "      <td>412</td>\n",
       "      <td>['presentation']</td>\n",
       "      <td>3.800000</td>\n",
       "    </tr>\n",
       "  </tbody>\n",
       "</table>\n",
       "<p>413 rows × 2 columns</p>\n",
       "</div>"
      ],
      "text/plain": [
       "               keyword  Avg_rating\n",
       "0           ['python']    4.188636\n",
       "1          ['rstudio']    3.700000\n",
       "2           ['socket']    3.766667\n",
       "3          ['publish']    1.000000\n",
       "4       ['automation']    3.940000\n",
       "..                 ...         ...\n",
       "408            ['fcp']    5.000000\n",
       "409           ['code']    4.000000\n",
       "410  ['preprocessing']    4.000000\n",
       "411            ['svg']    5.000000\n",
       "412   ['presentation']    3.800000\n",
       "\n",
       "[413 rows x 2 columns]"
      ]
     },
     "execution_count": 22,
     "metadata": {},
     "output_type": "execute_result"
    }
   ],
   "source": [
    "bar"
   ]
  },
  {
   "cell_type": "code",
   "execution_count": 24,
   "metadata": {},
   "outputs": [],
   "source": [
    "bar = bar.sort_values('Avg_rating', ascending=False)"
   ]
  },
  {
   "cell_type": "code",
   "execution_count": 30,
   "metadata": {},
   "outputs": [
    {
     "data": {
      "text/html": [
       "<div>\n",
       "<style scoped>\n",
       "    .dataframe tbody tr th:only-of-type {\n",
       "        vertical-align: middle;\n",
       "    }\n",
       "\n",
       "    .dataframe tbody tr th {\n",
       "        vertical-align: top;\n",
       "    }\n",
       "\n",
       "    .dataframe thead th {\n",
       "        text-align: right;\n",
       "    }\n",
       "</style>\n",
       "<table border=\"1\" class=\"dataframe\">\n",
       "  <thead>\n",
       "    <tr style=\"text-align: right;\">\n",
       "      <th></th>\n",
       "      <th>index</th>\n",
       "      <th>keyword</th>\n",
       "      <th>Avg_rating</th>\n",
       "    </tr>\n",
       "  </thead>\n",
       "  <tbody>\n",
       "    <tr>\n",
       "      <td>0</td>\n",
       "      <td>273</td>\n",
       "      <td>['powerpoint']</td>\n",
       "      <td>5.0</td>\n",
       "    </tr>\n",
       "    <tr>\n",
       "      <td>1</td>\n",
       "      <td>177</td>\n",
       "      <td>['customization']</td>\n",
       "      <td>5.0</td>\n",
       "    </tr>\n",
       "    <tr>\n",
       "      <td>2</td>\n",
       "      <td>374</td>\n",
       "      <td>['blazor']</td>\n",
       "      <td>5.0</td>\n",
       "    </tr>\n",
       "    <tr>\n",
       "      <td>3</td>\n",
       "      <td>217</td>\n",
       "      <td>['mysql']</td>\n",
       "      <td>5.0</td>\n",
       "    </tr>\n",
       "    <tr>\n",
       "      <td>4</td>\n",
       "      <td>219</td>\n",
       "      <td>['debugging']</td>\n",
       "      <td>5.0</td>\n",
       "    </tr>\n",
       "    <tr>\n",
       "      <td>...</td>\n",
       "      <td>...</td>\n",
       "      <td>...</td>\n",
       "      <td>...</td>\n",
       "    </tr>\n",
       "    <tr>\n",
       "      <td>408</td>\n",
       "      <td>26</td>\n",
       "      <td>['redis']</td>\n",
       "      <td>2.3</td>\n",
       "    </tr>\n",
       "    <tr>\n",
       "      <td>409</td>\n",
       "      <td>316</td>\n",
       "      <td>['bayesian']</td>\n",
       "      <td>2.0</td>\n",
       "    </tr>\n",
       "    <tr>\n",
       "      <td>410</td>\n",
       "      <td>3</td>\n",
       "      <td>['publish']</td>\n",
       "      <td>1.0</td>\n",
       "    </tr>\n",
       "    <tr>\n",
       "      <td>411</td>\n",
       "      <td>63</td>\n",
       "      <td>['keyshot']</td>\n",
       "      <td>1.0</td>\n",
       "    </tr>\n",
       "    <tr>\n",
       "      <td>412</td>\n",
       "      <td>76</td>\n",
       "      <td>['aspect']</td>\n",
       "      <td>1.0</td>\n",
       "    </tr>\n",
       "  </tbody>\n",
       "</table>\n",
       "<p>413 rows × 3 columns</p>\n",
       "</div>"
      ],
      "text/plain": [
       "     index            keyword  Avg_rating\n",
       "0      273     ['powerpoint']         5.0\n",
       "1      177  ['customization']         5.0\n",
       "2      374         ['blazor']         5.0\n",
       "3      217          ['mysql']         5.0\n",
       "4      219      ['debugging']         5.0\n",
       "..     ...                ...         ...\n",
       "408     26          ['redis']         2.3\n",
       "409    316       ['bayesian']         2.0\n",
       "410      3        ['publish']         1.0\n",
       "411     63        ['keyshot']         1.0\n",
       "412     76         ['aspect']         1.0\n",
       "\n",
       "[413 rows x 3 columns]"
      ]
     },
     "execution_count": 30,
     "metadata": {},
     "output_type": "execute_result"
    }
   ],
   "source": [
    "bar.reset_index()"
   ]
  },
  {
   "cell_type": "code",
   "execution_count": 31,
   "metadata": {},
   "outputs": [],
   "source": [
    "to_plot = bar[:31]"
   ]
  },
  {
   "cell_type": "code",
   "execution_count": 43,
   "metadata": {
    "scrolled": false
   },
   "outputs": [
    {
     "data": {
      "text/plain": [
       "Text(0.5, 1.0, 'Top 30 most highly rated book categories')"
      ]
     },
     "execution_count": 43,
     "metadata": {},
     "output_type": "execute_result"
    },
    {
     "data": {
      "image/png": "[encoded data removed]",
      "text/plain": [
       "<Figure size 720x720 with 1 Axes>"
      ]
     },
     "metadata": {
      "needs_background": "light"
     },
     "output_type": "display_data"
    }
   ],
   "source": [
    "plt.figure(figsize=(10,10))\n",
    "sns.barplot(x='Avg_rating', y='keyword', data=to_plot, orient='h')\n",
    "plt.xlabel(\"Average rating\", size=17)\n",
    "plt.ylabel(\"Keyword\", size=17)\n",
    "plt.title(\"Top 30 most highly rated book categories\", size=20)"
   ]
  },
  {
   "cell_type": "markdown",
   "metadata": {},
   "source": [
    "- Powerpoint, MySQL have highest average ratings amongst the keywords."
   ]
  },
  {
   "cell_type": "code",
   "execution_count": 63,
   "metadata": {},
   "outputs": [],
   "source": [
    "Avg_price_df = pd.DataFrame(columns=['Category', 'Avg_Price'])\n",
    "\n",
    "Avg_price_df['Category'] = df['keyword2'].unique()"
   ]
  },
  {
   "cell_type": "code",
   "execution_count": 64,
   "metadata": {},
   "outputs": [
    {
     "data": {
      "text/html": [
       "<div>\n",
       "<style scoped>\n",
       "    .dataframe tbody tr th:only-of-type {\n",
       "        vertical-align: middle;\n",
       "    }\n",
       "\n",
       "    .dataframe tbody tr th {\n",
       "        vertical-align: top;\n",
       "    }\n",
       "\n",
       "    .dataframe thead th {\n",
       "        text-align: right;\n",
       "    }\n",
       "</style>\n",
       "<table border=\"1\" class=\"dataframe\">\n",
       "  <thead>\n",
       "    <tr style=\"text-align: right;\">\n",
       "      <th></th>\n",
       "      <th>Category</th>\n",
       "      <th>Avg_Price</th>\n",
       "    </tr>\n",
       "  </thead>\n",
       "  <tbody>\n",
       "    <tr>\n",
       "      <td>0</td>\n",
       "      <td>['python']</td>\n",
       "      <td>NaN</td>\n",
       "    </tr>\n",
       "    <tr>\n",
       "      <td>1</td>\n",
       "      <td>['rstudio']</td>\n",
       "      <td>NaN</td>\n",
       "    </tr>\n",
       "    <tr>\n",
       "      <td>2</td>\n",
       "      <td>['socket']</td>\n",
       "      <td>NaN</td>\n",
       "    </tr>\n",
       "    <tr>\n",
       "      <td>3</td>\n",
       "      <td>['publish']</td>\n",
       "      <td>NaN</td>\n",
       "    </tr>\n",
       "    <tr>\n",
       "      <td>4</td>\n",
       "      <td>['automation']</td>\n",
       "      <td>NaN</td>\n",
       "    </tr>\n",
       "    <tr>\n",
       "      <td>...</td>\n",
       "      <td>...</td>\n",
       "      <td>...</td>\n",
       "    </tr>\n",
       "    <tr>\n",
       "      <td>409</td>\n",
       "      <td>['code']</td>\n",
       "      <td>NaN</td>\n",
       "    </tr>\n",
       "    <tr>\n",
       "      <td>410</td>\n",
       "      <td>['preprocessing']</td>\n",
       "      <td>NaN</td>\n",
       "    </tr>\n",
       "    <tr>\n",
       "      <td>411</td>\n",
       "      <td>['svg']</td>\n",
       "      <td>NaN</td>\n",
       "    </tr>\n",
       "    <tr>\n",
       "      <td>412</td>\n",
       "      <td>['presentation']</td>\n",
       "      <td>NaN</td>\n",
       "    </tr>\n",
       "    <tr>\n",
       "      <td>413</td>\n",
       "      <td>NaN</td>\n",
       "      <td>NaN</td>\n",
       "    </tr>\n",
       "  </tbody>\n",
       "</table>\n",
       "<p>414 rows × 2 columns</p>\n",
       "</div>"
      ],
      "text/plain": [
       "              Category Avg_Price\n",
       "0           ['python']       NaN\n",
       "1          ['rstudio']       NaN\n",
       "2           ['socket']       NaN\n",
       "3          ['publish']       NaN\n",
       "4       ['automation']       NaN\n",
       "..                 ...       ...\n",
       "409           ['code']       NaN\n",
       "410  ['preprocessing']       NaN\n",
       "411            ['svg']       NaN\n",
       "412   ['presentation']       NaN\n",
       "413                NaN       NaN\n",
       "\n",
       "[414 rows x 2 columns]"
      ]
     },
     "execution_count": 64,
     "metadata": {},
     "output_type": "execute_result"
    }
   ],
   "source": [
    "Avg_price_df"
   ]
  },
  {
   "cell_type": "code",
   "execution_count": 66,
   "metadata": {},
   "outputs": [],
   "source": [
    "avg_prices = []\n",
    "for keyword in unique_keywords:\n",
    "    new_df = df[df['keyword2'] == keyword]\n",
    "    try:\n",
    "        avg_prices.append(sum(new_df['book_price'])/len(new_df['book_price']))\n",
    "    except:\n",
    "        avg_prices.append(0)"
   ]
  },
  {
   "cell_type": "code",
   "execution_count": 67,
   "metadata": {},
   "outputs": [],
   "source": [
    "Avg_price_df['Avg_Price'] = avg_prices"
   ]
  },
  {
   "cell_type": "code",
   "execution_count": 68,
   "metadata": {},
   "outputs": [
    {
     "data": {
      "text/html": [
       "<div>\n",
       "<style scoped>\n",
       "    .dataframe tbody tr th:only-of-type {\n",
       "        vertical-align: middle;\n",
       "    }\n",
       "\n",
       "    .dataframe tbody tr th {\n",
       "        vertical-align: top;\n",
       "    }\n",
       "\n",
       "    .dataframe thead th {\n",
       "        text-align: right;\n",
       "    }\n",
       "</style>\n",
       "<table border=\"1\" class=\"dataframe\">\n",
       "  <thead>\n",
       "    <tr style=\"text-align: right;\">\n",
       "      <th></th>\n",
       "      <th>Category</th>\n",
       "      <th>Avg_Price</th>\n",
       "    </tr>\n",
       "  </thead>\n",
       "  <tbody>\n",
       "    <tr>\n",
       "      <td>0</td>\n",
       "      <td>['python']</td>\n",
       "      <td>2438.500000</td>\n",
       "    </tr>\n",
       "    <tr>\n",
       "      <td>1</td>\n",
       "      <td>['rstudio']</td>\n",
       "      <td>1828.000000</td>\n",
       "    </tr>\n",
       "    <tr>\n",
       "      <td>2</td>\n",
       "      <td>['socket']</td>\n",
       "      <td>2122.333333</td>\n",
       "    </tr>\n",
       "    <tr>\n",
       "      <td>3</td>\n",
       "      <td>['publish']</td>\n",
       "      <td>220.000000</td>\n",
       "    </tr>\n",
       "    <tr>\n",
       "      <td>4</td>\n",
       "      <td>['automation']</td>\n",
       "      <td>2196.400000</td>\n",
       "    </tr>\n",
       "    <tr>\n",
       "      <td>...</td>\n",
       "      <td>...</td>\n",
       "      <td>...</td>\n",
       "    </tr>\n",
       "    <tr>\n",
       "      <td>409</td>\n",
       "      <td>['code']</td>\n",
       "      <td>2782.000000</td>\n",
       "    </tr>\n",
       "    <tr>\n",
       "      <td>410</td>\n",
       "      <td>['preprocessing']</td>\n",
       "      <td>3738.000000</td>\n",
       "    </tr>\n",
       "    <tr>\n",
       "      <td>411</td>\n",
       "      <td>['svg']</td>\n",
       "      <td>2782.000000</td>\n",
       "    </tr>\n",
       "    <tr>\n",
       "      <td>412</td>\n",
       "      <td>['presentation']</td>\n",
       "      <td>3100.000000</td>\n",
       "    </tr>\n",
       "    <tr>\n",
       "      <td>413</td>\n",
       "      <td>NaN</td>\n",
       "      <td>0.000000</td>\n",
       "    </tr>\n",
       "  </tbody>\n",
       "</table>\n",
       "<p>414 rows × 2 columns</p>\n",
       "</div>"
      ],
      "text/plain": [
       "              Category    Avg_Price\n",
       "0           ['python']  2438.500000\n",
       "1          ['rstudio']  1828.000000\n",
       "2           ['socket']  2122.333333\n",
       "3          ['publish']   220.000000\n",
       "4       ['automation']  2196.400000\n",
       "..                 ...          ...\n",
       "409           ['code']  2782.000000\n",
       "410  ['preprocessing']  3738.000000\n",
       "411            ['svg']  2782.000000\n",
       "412   ['presentation']  3100.000000\n",
       "413                NaN     0.000000\n",
       "\n",
       "[414 rows x 2 columns]"
      ]
     },
     "execution_count": 68,
     "metadata": {},
     "output_type": "execute_result"
    }
   ],
   "source": [
    "Avg_price_df"
   ]
  },
  {
   "cell_type": "code",
   "execution_count": 69,
   "metadata": {},
   "outputs": [],
   "source": [
    "Avg_price_df = Avg_price_df.sort_values('Avg_Price', ascending=False)\n",
    "\n"
   ]
  },
  {
   "cell_type": "code",
   "execution_count": 71,
   "metadata": {
    "scrolled": false
   },
   "outputs": [
    {
     "data": {
      "text/plain": [
       "Text(0.5, 1.0, 'Top 30 Categories with the highest average prices')"
      ]
     },
     "execution_count": 71,
     "metadata": {},
     "output_type": "execute_result"
    },
    {
     "data": {
      "image/png": "[encoded data removed]",
      "text/plain": [
       "<Figure size 720x720 with 1 Axes>"
      ]
     },
     "metadata": {
      "needs_background": "light"
     },
     "output_type": "display_data"
    }
   ],
   "source": [
    "to_plot = Avg_price_df[:31]\n",
    "\n",
    "plt.figure(figsize=(10,10))\n",
    "sns.barplot(x='Avg_Price', y='Category', data=to_plot, orient='h')\n",
    "plt.xlabel(\"Average Price\", size=17)\n",
    "plt.ylabel(\"Category\", size=17)\n",
    "plt.title(\"Top 30 Categories with the highest average prices\", size=20)\n"
   ]
  },
  {
   "cell_type": "markdown",
   "metadata": {},
   "source": [
    "- The average price of books about 'webflux' is the highest amongst all other categories."
   ]
  },
  {
   "cell_type": "markdown",
   "metadata": {},
   "source": [
    "### Conclusions\n",
    "\n",
    "- Python, React.js, Tensorflow, Java and Azure are trending topics amongst publications.\n",
    "- Powerpoint, MySQL have highest average ratings amongst the keywords, which means many publications are writing books about these topics.\n",
    "- The average price of books about 'webflux' is the highest amongst all other categories"
   ]
  }
 ],
 "metadata": {
  "kernelspec": {
   "display_name": "Python 3",
   "language": "python",
   "name": "python3"
  },
  "language_info": {
   "codemirror_mode": {
    "name": "ipython",
    "version": 3
   },
   "file_extension": ".py",
   "mimetype": "text/x-python",
   "name": "python",
   "nbconvert_exporter": "python",
   "pygments_lexer": "ipython3",
   "version": "3.8.8"
  }
 },
 "nbformat": 4,
 "nbformat_minor": 2
}
